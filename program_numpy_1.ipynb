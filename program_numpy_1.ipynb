{
  "nbformat": 4,
  "nbformat_minor": 0,
  "metadata": {
    "colab": {
      "name": "program_numpy_1.ipynb",
      "provenance": [],
      "authorship_tag": "ABX9TyMDswtyPgUBSvs4cMzHncKA",
      "include_colab_link": true
    },
    "kernelspec": {
      "name": "python3",
      "display_name": "Python 3"
    },
    "language_info": {
      "name": "python"
    }
  },
  "cells": [
    {
      "cell_type": "markdown",
      "metadata": {
        "id": "view-in-github",
        "colab_type": "text"
      },
      "source": [
        "<a href=\"https://colab.research.google.com/github/esha20/Python/blob/main/program_numpy_1.ipynb\" target=\"_parent\"><img src=\"https://colab.research.google.com/assets/colab-badge.svg\" alt=\"Open In Colab\"/></a>"
      ]
    },
    {
      "cell_type": "code",
      "execution_count": 1,
      "metadata": {
        "id": "zHCn0yaqZwhD"
      },
      "outputs": [],
      "source": [
        "b =[-1,-1,-1]\n",
        "a=[-1,1,1]\n",
        "o=[1,1,-1]"
      ]
    },
    {
      "cell_type": "code",
      "source": [
        "type(b)"
      ],
      "metadata": {
        "colab": {
          "base_uri": "https://localhost:8080/"
        },
        "id": "E5NCgt4taKkA",
        "outputId": "2c2fcf1c-3222-46ff-9d8c-bc5aa177fd63"
      },
      "execution_count": 2,
      "outputs": [
        {
          "output_type": "execute_result",
          "data": {
            "text/plain": [
              "list"
            ]
          },
          "metadata": {},
          "execution_count": 2
        }
      ]
    },
    {
      "cell_type": "code",
      "source": [
        "import numpy as np\n",
        "b=np.array([-1,-1,-1])\n",
        "a=np.array([-1,1,1])\n",
        "o=np.array([1,1,-1])\n",
        "type(b)"
      ],
      "metadata": {
        "colab": {
          "base_uri": "https://localhost:8080/"
        },
        "id": "4BZBF_EwaMEH",
        "outputId": "e13f52a7-0be7-471c-ba49-35c65ebb93eb"
      },
      "execution_count": 3,
      "outputs": [
        {
          "output_type": "execute_result",
          "data": {
            "text/plain": [
              "numpy.ndarray"
            ]
          },
          "metadata": {},
          "execution_count": 3
        }
      ]
    },
    {
      "cell_type": "code",
      "source": [
        "if b[0]==-1 and b[1]==-1 and b[2]==-1 :\n",
        "  print (\"banana\")\n",
        "elif a[0]==-1 and a[1]==1 and a[2]==1:\n",
        "  print(\"apple\")\n",
        "elif o[0]==1 and o[1]==1 and o[2]==-1:\n",
        "  print(\"orange\")"
      ],
      "metadata": {
        "id": "C0H8VL_Car85"
      },
      "execution_count": null,
      "outputs": []
    }
  ]
}